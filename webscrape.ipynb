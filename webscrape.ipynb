{
 "cells": [
  {
   "cell_type": "markdown",
   "id": "bde800ae-ee97-4dce-8259-cd2906aa6f88",
   "metadata": {},
   "source": [
    "# Web Scraping IMDB most popular movie\n",
    "\n",
    "Proyek ini bertujuan untuk mengambil data judul, rating, poster, dan review teratas dari IMDB most popular movie"
   ]
  },
  {
   "cell_type": "markdown",
   "id": "8f4c3cfd-d552-4a62-a6e2-06a915aefe4f",
   "metadata": {},
   "source": [
    "## Persiapan\n",
    "\n",
    "### Import Library"
   ]
  },
  {
   "cell_type": "code",
   "execution_count": 60,
   "id": "ee4d6f94-b91d-4ac0-b9e0-3c28de390b8c",
   "metadata": {},
   "outputs": [],
   "source": [
    "from bs4 import BeautifulSoup\n",
    "import requests\n",
    "import os"
   ]
  },
  {
   "cell_type": "markdown",
   "id": "578ae121-57cd-4e09-b978-0d65c42f89ee",
   "metadata": {},
   "source": [
    "### Spesifikasikan URL tujuan\n",
    "\n",
    "Proyek ini akan mengambil IMDB most popular movie yang terdapat pada halaman berikut : https://www.imdb.com/chart/moviemeter/"
   ]
  },
  {
   "cell_type": "code",
   "execution_count": 3,
   "id": "4493dd99-c11e-4aab-a02c-34ffdfd20794",
   "metadata": {},
   "outputs": [],
   "source": [
    "url = \"https://www.imdb.com/chart/moviemeter/\""
   ]
  },
  {
   "cell_type": "markdown",
   "id": "0137fbbc-190c-41be-918d-46205336ce68",
   "metadata": {},
   "source": [
    "## Scraping\n",
    "\n",
    "Buat fungsi yang dapat mengakses dan mengembalikan halaman url tujuan serta mencetak kode status dan judul halaman."
   ]
  },
  {
   "cell_type": "code",
   "execution_count": 4,
   "id": "5464de29-320d-4cdd-b2b3-f096c6ecb786",
   "metadata": {},
   "outputs": [],
   "source": [
    "def get_the_page(url):\n",
    "    res = requests.get(url)\n",
    "    print(res.status_code, end=\": \") # status_code berisi kode status halaman yang diakses, jika 200 berarti halaman bisa diakses\n",
    "    \n",
    "    # page disini berisi seluruh halaman HTML\n",
    "    page = BeautifulSoup(res.content, \"html.parser\")\n",
    "    print(page.h1.text)\n",
    "    \n",
    "    return page"
   ]
  },
  {
   "cell_type": "code",
   "execution_count": 5,
   "id": "bc3353a6-024c-4549-b8e0-f800b552cd70",
   "metadata": {},
   "outputs": [
    {
     "name": "stdout",
     "output_type": "stream",
     "text": [
      "200: Most Popular Movies\n"
     ]
    }
   ],
   "source": [
    "list_movie_page = get_the_page(url)"
   ]
  },
  {
   "cell_type": "markdown",
   "id": "d023491a-636b-4e9c-96a7-1f71ca92c62f",
   "metadata": {},
   "source": [
    "Status kode 200 berarti website bisa diakses dan kita bisa mulai scraping"
   ]
  },
  {
   "cell_type": "markdown",
   "id": "e4b988be-7d57-4765-b0a2-adb69e06fa45",
   "metadata": {},
   "source": [
    "### Judul\n",
    "\n",
    "Mulai dengan mengambil judul. Klik kanan pada judul halaman kemudian inspect elemen. \n",
    "\n",
    "![](https://dssc-unmul.github.io/assets/img/2022-05-22-14-00-12.png)\n",
    "\n",
    "Jika diperhatikan judul film berada dalam tag `a` yang berada dalam tag `td`. Tag `td` memiliki atribut `class` yang bernilai `titleColumn`.\n",
    "\n",
    "Namun jika diperhatikan lebih lanjut lagi tag `td` untuk judul film berada dalam sebuah tag yang sama dengan tag `td` milik poster dan rating, yaitu tag `tr`.\n",
    "\n",
    "![](https://dssc-unmul.github.io/assets/img/2022-05-22-14-35-10.png)\n",
    "\n",
    "Sehingga untuk mendapatkan seluruh konten dengan tag `tr` dapat menggunakan method `findAll({tag})`"
   ]
  },
  {
   "cell_type": "code",
   "execution_count": 20,
   "id": "052961f9-59e0-4769-89ae-1bbf1d206960",
   "metadata": {},
   "outputs": [],
   "source": [
    "# simpan dalam variabel\n",
    "movie = list_movie_page.findAll(\"tr\")"
   ]
  },
  {
   "cell_type": "code",
   "execution_count": 14,
   "id": "7fa5a64e-6646-4ffb-9743-0d5c41f3e0aa",
   "metadata": {},
   "outputs": [
    {
     "data": {
      "text/plain": [
       "101"
      ]
     },
     "execution_count": 14,
     "metadata": {},
     "output_type": "execute_result"
    }
   ],
   "source": [
    "# jumlah container judul\n",
    "len(movie)"
   ]
  },
  {
   "cell_type": "markdown",
   "id": "907feaa9-9b19-4a93-b12a-3d6cd8e41391",
   "metadata": {},
   "source": [
    "Jumlah film harusnya berjumlah 100. Jumlah 101 karena tag `tr` yang bukan film juga ikut dihitung. Jadi kita bisa buang elemen pertamanya"
   ]
  },
  {
   "cell_type": "markdown",
   "id": "6b52f378-ec6f-4e64-a7d6-897e5aa48db5",
   "metadata": {},
   "source": [
    "Method `findAll` mengembalikan list. Sehingga cara mengakses elemen list tersebut sama seperti mengakses list python biasa, dengan kurung siku."
   ]
  },
  {
   "cell_type": "code",
   "execution_count": 21,
   "id": "2c0c9f14-b098-4a6a-83da-8a6dcbe0fe92",
   "metadata": {},
   "outputs": [
    {
     "name": "stdout",
     "output_type": "stream",
     "text": [
      "sebelum\n",
      "<tr>\n",
      "<th></th>\n",
      "<th>Rank &amp; Title</th>\n",
      "<th>IMDb Rating</th>\n",
      "<th>Your Rating</th>\n",
      "<th></th>\n",
      "</tr>\n",
      "\n",
      "sesudah\n",
      "<tr>\n",
      "<td class=\"posterColumn\">\n",
      "<span data-value=\"1\" name=\"rk\"></span>\n",
      "<span data-value=\"7.4\" name=\"ir\"></span>\n",
      "<span data-value=\"1.6514496E12\" name=\"us\"></span>\n",
      "<span data-value=\"162948\" name=\"nv\"></span>\n",
      "<span data-value=\"-3.5999999999999996\" name=\"ur\"></span>\n",
      "<a href=\"/title/tt9419884/\"> <img alt=\"Doctor Strange in the Multiverse of Madness\" height=\"67\" src=\"https://m.media-amazon.com/images/M/MV5BNWM0ZGJlMzMtZmYwMi00NzI3LTgzMzMtNjMzNjliNDRmZmFlXkEyXkFqcGdeQXVyMTM1MTE1NDMx._V1_UY67_CR0,0,45,67_AL_.jpg\" width=\"45\"/>\n",
      "</a> </td>\n",
      "<td class=\"titleColumn\">\n",
      "<a href=\"/title/tt9419884/\" title=\"Sam Raimi (dir.), Benedict Cumberbatch, Elizabeth Olsen\">Doctor Strange in the Multiverse of Madness</a>\n",
      "<span class=\"secondaryInfo\">(2022)</span>\n",
      "<div class=\"velocity\">1\n",
      "(no change)\n",
      "</div>\n",
      "</td>\n",
      "<td class=\"ratingColumn imdbRating\">\n",
      "<strong title=\"7.4 based on 162,948 user ratings\">7.4</strong>\n",
      "</td>\n",
      "<td class=\"ratingColumn\">\n",
      "<div class=\"seen-widget seen-widget-tt9419884 pending\" data-titleid=\"tt9419884\">\n",
      "<div class=\"boundary\">\n",
      "<div class=\"popover\">\n",
      "<span class=\"delete\"> </span><ol><li>1<li>2<li>3<li>4<li>5<li>6<li>7<li>8<li>9<li>10</li></li></li></li></li></li></li></li></li></li></ol> </div>\n",
      "</div>\n",
      "<div class=\"inline\">\n",
      "<div class=\"pending\"></div>\n",
      "<div class=\"unseeable\">NOT YET RELEASED</div>\n",
      "<div class=\"unseen\"> </div>\n",
      "<div class=\"rating\"></div>\n",
      "<div class=\"seen\">Seen</div>\n",
      "</div>\n",
      "</div>\n",
      "</td>\n",
      "<td class=\"watchlistColumn\">\n",
      "<div class=\"wlb_ribbon\" data-recordmetrics=\"true\" data-tconst=\"tt9419884\"></div>\n",
      "</td>\n",
      "</tr>\n"
     ]
    }
   ],
   "source": [
    "print(\"sebelum\")\n",
    "print(movie[0])\n",
    "\n",
    "movie = movie[1:]\n",
    "\n",
    "print(\"\\nsesudah\")\n",
    "print(movie[0])"
   ]
  },
  {
   "cell_type": "markdown",
   "id": "1c7147ce-31cc-444f-959e-1767f3980cc3",
   "metadata": {},
   "source": [
    "Ingat bahwa judul film berada dalam tag `a` yang berada dalam tag `td`. Tag `td` memiliki atribut `class` yang bernilai `titleColumn`.\n",
    "\n",
    "Cara mendapat seluruh tag dengan ciri-ciri tersebut adalah dengan method `find` dengan sintaks `{objek_halaman}.find({tag}, {atribut:nilai_atribut})`"
   ]
  },
  {
   "cell_type": "code",
   "execution_count": 26,
   "id": "f34a0342-7827-416d-85c5-5fd555261ee7",
   "metadata": {},
   "outputs": [
    {
     "data": {
      "text/plain": [
       "<td class=\"titleColumn\">\n",
       "<a href=\"/title/tt9419884/\" title=\"Sam Raimi (dir.), Benedict Cumberbatch, Elizabeth Olsen\">Doctor Strange in the Multiverse of Madness</a>\n",
       "<span class=\"secondaryInfo\">(2022)</span>\n",
       "<div class=\"velocity\">1\n",
       "(no change)\n",
       "</div>\n",
       "</td>"
      ]
     },
     "execution_count": 26,
     "metadata": {},
     "output_type": "execute_result"
    }
   ],
   "source": [
    "movie[0].find(\"td\", {\"class\":\"titleColumn\"})"
   ]
  },
  {
   "cell_type": "markdown",
   "id": "de64ac14-8895-448a-8ecd-f89615d93c86",
   "metadata": {},
   "source": [
    "Cara mengakses tag didalamnya sama dengan mengakses atribut dalam objek python seperti biasa. Untuk mengakses tag `a` bisa dengan `movie[0].find(\"td\", {\"class\":\"titleColumn\"}).a`"
   ]
  },
  {
   "cell_type": "code",
   "execution_count": 30,
   "id": "4640b83f-e3ae-4863-8536-f166be2e9793",
   "metadata": {},
   "outputs": [
    {
     "name": "stdout",
     "output_type": "stream",
     "text": [
      "<a href=\"/title/tt9419884/\" title=\"Sam Raimi (dir.), Benedict Cumberbatch, Elizabeth Olsen\">Doctor Strange in the Multiverse of Madness</a>\n",
      "\n",
      "tambahkan .text\n",
      "Doctor Strange in the Multiverse of Madness\n"
     ]
    }
   ],
   "source": [
    "# mengakses tag\n",
    "print(movie[0].find(\"td\", {\"class\":\"titleColumn\"}).a)\n",
    "\n",
    "# mengakses isi teks dari sebuah tag\n",
    "print(\"\\ntambahkan .text\")\n",
    "print(movie[0].find(\"td\", {\"class\":\"titleColumn\"}).a.text)"
   ]
  },
  {
   "cell_type": "markdown",
   "id": "33f9c396-28b0-4124-aa0b-103cd9de0edb",
   "metadata": {},
   "source": [
    "### Rating\n",
    "\n",
    "Cara yang sama bisa digunakan untuk mendapatkan rating.\n",
    "\n",
    "![](https://dssc-unmul.github.io/assets/img/2022-05-22-14-32-06.png)"
   ]
  },
  {
   "cell_type": "code",
   "execution_count": 66,
   "id": "f4e38182-5fa9-44b7-aacf-fbbce1e5c6ac",
   "metadata": {},
   "outputs": [
    {
     "data": {
      "text/plain": [
       "'7.4'"
      ]
     },
     "execution_count": 66,
     "metadata": {},
     "output_type": "execute_result"
    }
   ],
   "source": [
    "movie[0].find(\"td\", {\"class\":\"ratingColumn imdbRating\"}).strong.text"
   ]
  },
  {
   "cell_type": "markdown",
   "id": "1c414943-10fc-493d-9545-25545474f817",
   "metadata": {},
   "source": [
    "### Poster\n",
    "\n",
    "Untuk poster kita harus masuk ke halaman film nya karena resolusi dari poster yang ada dihalaman saat ini kecil.\n",
    "\n",
    "Link ke halaman film ada pada tag `a` judul dengan atribut `href`. Untuk mengakses atribut tertentu gunakan slicing seperti dalam list. Contoh: `a[\"href]`"
   ]
  },
  {
   "cell_type": "code",
   "execution_count": 32,
   "id": "0022c98c-e0c5-4cf6-add2-741ff5a82c9f",
   "metadata": {},
   "outputs": [
    {
     "data": {
      "text/plain": [
       "'/title/tt9419884/'"
      ]
     },
     "execution_count": 32,
     "metadata": {},
     "output_type": "execute_result"
    }
   ],
   "source": [
    "movie[0].find(\"td\", {\"class\":\"titleColumn\"}).a[\"href\"]"
   ]
  },
  {
   "cell_type": "markdown",
   "id": "a93435fb-78ab-40ff-afc5-681e2ed7d88c",
   "metadata": {},
   "source": [
    "Link yang keluar hanyalah sebagian dari url lengkapnya. Cukup tambahkan http://imdb.com maka kita dapat url lengkapnya.\n",
    "\n",
    "Karena kita sudah membuat fungsi untuk mengembalikan halaman html, sekarang cukup kita panggil fungsi tersebut dan masukkan url lengkap diatas"
   ]
  },
  {
   "cell_type": "code",
   "execution_count": 33,
   "id": "c3ea1a0c-69b2-49e7-bddb-2187fc425e50",
   "metadata": {},
   "outputs": [
    {
     "name": "stdout",
     "output_type": "stream",
     "text": [
      "https://imdb.com/title/tt9419884/\n"
     ]
    }
   ],
   "source": [
    "url_film = \"https://imdb.com\" + movie[0].find(\"td\", {\"class\":\"titleColumn\"}).a[\"href\"]\n",
    "\n",
    "print(url_film)"
   ]
  },
  {
   "cell_type": "code",
   "execution_count": 34,
   "id": "7484b415-18dd-49d7-92a7-5cf46f7a4b48",
   "metadata": {},
   "outputs": [
    {
     "name": "stdout",
     "output_type": "stream",
     "text": [
      "200: Doctor Strange in the Multiverse of Madness\n"
     ]
    }
   ],
   "source": [
    "# dapatkan halamannya\n",
    "strange_page = get_the_page(url_film)"
   ]
  },
  {
   "cell_type": "markdown",
   "id": "0d0cd7d3-3c6b-4fff-b7cf-9ed978574fae",
   "metadata": {},
   "source": [
    "Klik kanan pada poster film, kemudian inspect element.\n",
    "\n",
    "![](https://dssc-unmul.github.io/assets/img/2022-05-22-15-10-22.png)\n",
    "\n",
    "Cari tag `div` yang didalamnya terdapat tag `img` yaitu letak gambar dalam struktur html.\n",
    "\n",
    "![](https://dssc-unmul.github.io/assets/img/2022-05-22-15-13-36.png)\n",
    "\n",
    "Dalam tag `img` ini terdapat atribut `class` yang bernilai `ipc-image`. Dapatkan nilai atribut `src` untuk link ke gambarnya."
   ]
  },
  {
   "cell_type": "code",
   "execution_count": 38,
   "id": "81665dfc-c684-4b13-8816-d833faa5dde2",
   "metadata": {},
   "outputs": [],
   "source": [
    "img_tag = strange_page.find(\"img\", {\"class\":\"ipc-image\"})"
   ]
  },
  {
   "cell_type": "code",
   "execution_count": 39,
   "id": "eabfb261-ac51-4e35-ae7f-42a18440fb99",
   "metadata": {},
   "outputs": [
    {
     "data": {
      "text/plain": [
       "'https://m.media-amazon.com/images/M/MV5BZWJjM2FlMzYtNWQ3Ny00MzM0LTgzY2EtNWU3YzExYmZhMWRiXkEyXkFqcGdeQXVyMTQyMTMwOTk0._V1_QL75_UX190_CR0,2,190,281_.jpg'"
      ]
     },
     "execution_count": 39,
     "metadata": {},
     "output_type": "execute_result"
    }
   ],
   "source": [
    "# akses nilai atribut src\n",
    "img_tag[\"src\"]"
   ]
  },
  {
   "cell_type": "markdown",
   "id": "1396ac5a-8553-4e51-bcfa-79678e14250c",
   "metadata": {},
   "source": [
    "### Review Teratas\n",
    "\n",
    "Sama dengan sebelumnya, inspect elemen\n",
    "\n",
    "![](https://dssc-unmul.github.io/assets/img/2022-05-22-15-21-00.png)\n",
    "\n",
    "Temukan tag dan atribut yang unik\n",
    "\n",
    "![](https://dssc-unmul.github.io/assets/img/2022-05-22-15-22-12.png)"
   ]
  },
  {
   "cell_type": "code",
   "execution_count": 57,
   "id": "ee244354-fb19-4d1a-bb42-9c310b38c2d8",
   "metadata": {},
   "outputs": [
    {
     "data": {
      "text/plain": [
       "'This won\\'t be a fan favourite but mixing the marvel cinema experience with a splash of \"old school\" horror hit the target for me.It\\'s weird, but id go as far as saying that a marvel movie was the best horror flick I\\'ve seen in over a decade.Dark, creepy and visually epic.The plot was pretty basic, but i had fun watching.I like that they\\'re mixing it up.'"
      ]
     },
     "execution_count": 57,
     "metadata": {},
     "output_type": "execute_result"
    }
   ],
   "source": [
    "strange_page.find(\"section\", {\"data-testid\":\"UserReviews\"}).find(\"div\", {\"class\":\"ipc-html-content-inner-div\"}).text"
   ]
  },
  {
   "cell_type": "markdown",
   "id": "919d2f8e-4a95-46ca-b928-995ca4233904",
   "metadata": {},
   "source": [
    "## Wrap it all up\n",
    "\n",
    "Setelah kita mendapatkan data data yang dibutuhkan, selanjutnya kita dapat menjalankan seluruh kode dalam for loop untuk mengakses setiap filmnya.\n",
    "\n",
    "Namun sebelum itu buat file dulu untuk menyimpan datanya. Disini kita menggunakan .tsv (tab-separated value) yaitu nilai yang dipisahkan tab, bukan koma. Karena dalam review user bisa saja mengandung koma dan merusak struktur kolom jika menggunakan .csv. Kemudian buat juga folder untuk menyimpan poster yang akan didownload"
   ]
  },
  {
   "cell_type": "code",
   "execution_count": 78,
   "id": "4ab23be2-21ff-4311-b575-56c85d62476b",
   "metadata": {},
   "outputs": [
    {
     "data": {
      "text/plain": [
       "23"
      ]
     },
     "execution_count": 78,
     "metadata": {},
     "output_type": "execute_result"
    }
   ],
   "source": [
    "f = open(\"data_imdb.tsv\", \"a\")\n",
    "# pemisah menggunakan tab \\t\n",
    "f.write(\"judul\\trating\\ttopreview\\n\") # untuk header atau nama kolom"
   ]
  },
  {
   "cell_type": "code",
   "execution_count": 61,
   "id": "0379c3ab-17c7-4e42-876a-1b1f6b7a4ed9",
   "metadata": {},
   "outputs": [],
   "source": [
    "os.mkdir(\"poster\")"
   ]
  },
  {
   "cell_type": "markdown",
   "id": "36d6dc24-0fea-4d4b-970a-9d91933020b6",
   "metadata": {},
   "source": [
    "cara mendownload gambar\n",
    "\n",
    "```python\n",
    "import requests\n",
    "with open('00000001.jpg','wb') as f:\n",
    "    f.write(requests.get('http://www.gunnerkrigg.com//comics/00000001.jpg').content)\n",
    "```"
   ]
  },
  {
   "cell_type": "code",
   "execution_count": 79,
   "id": "56cf6c70-c2a1-4984-99f7-3ebf97689feb",
   "metadata": {},
   "outputs": [
    {
     "name": "stdout",
     "output_type": "stream",
     "text": [
      "0\n",
      "200: Doctor Strange in the Multiverse of Madness\n",
      "1\n",
      "200: Avatar: The Way of Water\n",
      "2\n",
      "200: The Northman\n",
      "3\n",
      "200: The Batman\n",
      "4\n",
      "200: The Lost City\n",
      "5\n",
      "200: Everything Everywhere All at Once\n",
      "6\n",
      "200: Top Gun: Maverick\n",
      "7\n",
      "200: Firestarter\n",
      "8\n",
      "200: Senior Year\n",
      "9\n",
      "200: Operation Mincemeat\n",
      "10\n",
      "200: 365 Days: This Day\n",
      "11\n",
      "200: Uncharted\n",
      "12\n",
      "200: Doctor Strange\n",
      "13\n",
      "200: 365 Days\n",
      "14\n",
      "200: Fantastic Beasts: The Secrets of Dumbledore\n",
      "15\n",
      "200: X\n",
      "16\n",
      "200: The Bad Guys\n",
      "17\n",
      "200: Spider-Man: No Way Home\n",
      "18\n",
      "200: Avatar\n",
      "19\n",
      "200: Death on the Nile\n",
      "20\n",
      "200: Thor: Love and Thunder\n",
      "21\n",
      "200: Top Gun\n",
      "22\n",
      "200: Sonic the Hedgehog 2\n",
      "23\n",
      "200: 2000 Mules\n",
      "24\n",
      "200: The Godfather\n",
      "25\n",
      "200: Along for the Ride\n",
      "26\n",
      "200: The Unbearable Weight of Massive Talent\n",
      "27\n",
      "200: The Rum Diary\n",
      "28\n",
      "200: The Takedown\n",
      "29\n",
      "200: Ambulance\n",
      "30\n",
      "200: Dune\n",
      "31\n",
      "200: Downton Abbey: A New Era\n",
      "32\n",
      "200: The Gentlemen\n",
      "33\n",
      "200: Jurassic World Dominion\n",
      "34\n",
      "200: Thar\n",
      "35\n",
      "200: Aquaman\n",
      "36\n",
      "200: K.G.F: Chapter 2\n",
      "37\n",
      "200: Father of the Bride\n",
      "38\n",
      "200: Don't Worry Darling\n",
      "39\n",
      "200: Pirates of the Caribbean: The Curse of the Black Pearl\n",
      "40\n",
      "200: Our Father\n",
      "41\n",
      "200: Eternals\n",
      "42\n",
      "200: Hustle\n",
      "43\n",
      "200: Morbius\n",
      "44\n",
      "200: Moonfall\n",
      "45\n",
      "200: The Outfit\n",
      "46\n",
      "200: Pleasure\n",
      "47\n",
      "200: Sing 2\n",
      "48\n",
      "200: Avengers: Endgame\n",
      "49\n",
      "200: Ghostbusters: Afterlife\n",
      "50\n",
      "200: Men\n",
      "51\n",
      "200: No Time to Die\n",
      "52\n",
      "200: Elvis\n",
      "53\n",
      "200: Crimes of the Future\n",
      "54\n",
      "200: The Adam Project\n",
      "55\n",
      "200: The Shawshank Redemption\n",
      "56\n",
      "200: Dear Evan Hansen\n",
      "57\n",
      "200: Firestarter\n",
      "58\n",
      "200: Memory\n",
      "59\n",
      "200: CODA\n",
      "60\n",
      "200: Turning Red\n",
      "61\n",
      "200: Encanto\n",
      "62\n",
      "200: Old\n",
      "63\n",
      "200: The Suicide Squad\n",
      "64\n",
      "200: The King's Man\n",
      "65\n",
      "200: The Gray Man\n",
      "66\n",
      "200: U.S. Marshals\n",
      "67\n",
      "200: The Black Phone\n",
      "68\n",
      "200: Scream\n",
      "69\n",
      "200: Love\n",
      "70\n",
      "200: Gangubai Kathiawadi\n",
      "71\n",
      "200: The Contractor\n",
      "72\n",
      "200: The Dark Knight\n",
      "73\n",
      "200: Pirates of the Caribbean: Dead Men Tell No Tales\n",
      "74\n",
      "200: The Matrix Resurrections\n",
      "75\n",
      "200: Licorice Pizza\n",
      "76\n",
      "200: Once Upon a Time... in Hollywood\n",
      "77\n",
      "200: Nightmare Alley\n",
      "78\n",
      "200: Fantastic Beasts: The Crimes of Grindelwald\n",
      "79\n",
      "200: Free Guy\n",
      "80\n",
      "200: Deep Water\n",
      "81\n",
      "200: Forrest Gump\n",
      "82\n",
      "200: Sonic the Hedgehog\n",
      "83\n",
      "200: The Sadness\n",
      "84\n",
      "200: Wrath of Man\n",
      "85\n",
      "200: American Psycho\n",
      "86\n",
      "200: Doctor Sleep\n",
      "87\n",
      "200: Venom: Let There Be Carnage\n",
      "88\n",
      "200: Father Stu\n",
      "89\n",
      "200: The VVitch: A New-England Folktale\n",
      "90\n",
      "200: Runway 34\n",
      "91\n",
      "200: London Fields\n",
      "92\n",
      "200: The Evil Dead\n",
      "93\n",
      "200: Dog\n",
      "94\n",
      "200: House of Gucci\n",
      "95\n",
      "200: Happy Gilmore\n",
      "96\n",
      "200: Shang-Chi and the Legend of the Ten Rings\n",
      "97\n",
      "200: The Danish Girl\n",
      "98\n",
      "200: Avengers: Infinity War\n",
      "99\n",
      "200: Metal Lords\n"
     ]
    }
   ],
   "source": [
    "# loop sebanyak jumlah film\n",
    "for i in range(len(movie)):\n",
    "    print(i)\n",
    "    judul = movie[i].find(\"td\", {\"class\":\"titleColumn\"}).a.text\n",
    "    \n",
    "    # ada film yang belum ada ratingnya\n",
    "    # berarti tidak ada review juga\n",
    "    try :\n",
    "        rating = movie[i].find(\"td\", {\"class\":\"ratingColumn imdbRating\"}).strong.text\n",
    "        review = page_film.find(\"section\", {\"data-testid\":\"UserReviews\"}).find(\"div\", {\"class\":\"ipc-html-content-inner-div\"}).text\n",
    "    except: \n",
    "        rating = \"-\"\n",
    "        review = \"-\"\n",
    "        \n",
    "    url = movie[i].find(\"td\", {\"class\":\"titleColumn\"}).a[\"href\"]\n",
    "    page_film = get_the_page(\"https://imdb.com\" + url)\n",
    "    \n",
    "    # # poster\n",
    "    # url_poster = page_film.find(\"img\", {\"class\":\"ipc-image\"})[\"src\"]\n",
    "    # # beri nama filenya sesuai judul filmnya tanpa spasi\n",
    "    # with open(f\"poster/{judul.replace(' ' , '')}.jpg\", \"wb\") as g:\n",
    "    #     g.write(requests.get(url_poster).content)\n",
    "    \n",
    "    f.write(judul + \"\\t\" + rating + \"\\t\" + review + \"\\n\")\n",
    "\n",
    "f.close()"
   ]
  }
 ],
 "metadata": {
  "kernelspec": {
   "display_name": "Python 3 (ipykernel)",
   "language": "python",
   "name": "python3"
  },
  "language_info": {
   "codemirror_mode": {
    "name": "ipython",
    "version": 3
   },
   "file_extension": ".py",
   "mimetype": "text/x-python",
   "name": "python",
   "nbconvert_exporter": "python",
   "pygments_lexer": "ipython3",
   "version": "3.9.12"
  }
 },
 "nbformat": 4,
 "nbformat_minor": 5
}
